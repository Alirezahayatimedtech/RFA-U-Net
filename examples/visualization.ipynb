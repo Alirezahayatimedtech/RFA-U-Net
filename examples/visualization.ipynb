# %% [markdown]
# # RFA-U-Net 4-Panel Boundary Visualization
# Plots: Original ⇨ Ground-Truth ⇨ Predicted ⇨ Boundaries (GT=red, Pred=yellow)

# %%
# 1) cd into your repo (uncomment in Colab)
# %cd /content/RFA-U-Net

import os, sys
# 2) make sure src/ is on PYTHONPATH
sys.path.insert(0, os.path.abspath("src"))

# %%
# 3) imports
import torch
import numpy as np
import matplotlib.pyplot as plt
from rfa_u_net import AttentionUNetViT, OCTDataset, val_test_transform

# %%
# 4) load model + weights
config = {
    "image_size": 224,
    "hidden_dim": 1024,
    "patch_size": 16,
    "num_channels": 3,
    "num_classes": 2,
    "retfound_weights_path": "/content/RFA-U-Net/weights/best_rfa_unet.pth"
}
device = torch.device("cuda" if torch.cuda.is_available() else "cpu")
model = AttentionUNetViT(config).to(device)

ckpt_path = config["retfound_weights_path"]
assert os.path.exists(ckpt_path), f"Weights not found: {ckpt_path}"
ckpt = torch.load(ckpt_path, map_location=device, weights_only=False)
state_dict = ckpt.get("model_state_dict", ckpt)
model.load_state_dict(state_dict, strict=False)
model.eval()
print(f"✅ Loaded weights from {ckpt_path}")

# %%
# 5) helper to show all 4 panels
def viz_four_panel(image, true_mask, pred_prob, thresh=0.5):
    """
    image:     torch.Tensor [1,3,H,W]
    true_mask: numpy [H,W] binary
    pred_prob: numpy [H,W] float [0,1]
    """
    img = image.cpu().squeeze(0).permute(1,2,0).numpy()
    pred_bin = (pred_prob > thresh).astype(np.uint8)

    # find boundaries
    H, W = true_mask.shape
    def boundaries(mask):
        ups, lows = [], []
        for c in range(W):
            idxs = np.where(mask[:,c]>0)[0]
            ups.append(idxs[0]   if len(idxs) else np.nan)
            lows.append(idxs[-1] if len(idxs) else np.nan)
        return ups, lows

    gu, gl = boundaries(true_mask)
    pu, pl = boundaries(pred_bin)

    fig, ax = plt.subplots(1,4,figsize=(20,5))
    ax[0].imshow(img);                   ax[0].set_title("Original");            ax[0].axis("off")
    ax[1].imshow(true_mask, cmap="gray");ax[1].set_title("Ground-Truth");       ax[1].axis("off")
    ax[2].imshow(pred_bin,  cmap="gray");ax[2].set_title("Predicted");          ax[2].axis("off")

    ax[3].imshow(img)
    ax[3].plot(range(W), gu, ".", color="red",    markersize=1)
    ax[3].plot(range(W), gl, ".", color="red",    markersize=1)
    ax[3].plot(range(W), pu, ".", color="yellow", markersize=1)
    ax[3].plot(range(W), pl, ".", color="yellow", markersize=1)
    ax[3].set_title("Boundaries (GT=red, Pred=yellow)"); ax[3].axis("off")

    plt.tight_layout()
    plt.show()

# %%
# 6) run on first 10 examples
test_image_dir = "/content/external_data/diabetic/diabetic"
test_mask_dir  = "/content/external_data/Mask graylevel/Mask_graylevel"
ds = OCTDataset(test_image_dir, test_mask_dir, config["image_size"], transform=val_test_transform)

for i in range(min(10, len(ds))):
    img, gt_oh = ds[i]
    true_mask = gt_oh[1].numpy()
    with torch.no_grad():
        out  = model(img.unsqueeze(0).to(device))
        prob = torch.sigmoid(out)[0,1].cpu().numpy()
    viz_four_panel(img, true_mask, prob, thresh=0.5)
