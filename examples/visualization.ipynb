import torch
from src.retfound import AttentionUNetViT, plot_boundaries

config = {
    "image_size": 224,
    "hidden_dim": 1024,
    "patch_size": 16,
    "num_channels": 3,
    "num_classes": 2,
    "retfound_weights_path": "weights/RETFound_oct_weights.pth"
}
model = AttentionUNetViT(config).cuda()
model.eval()
image = torch.randn(1, 3, 224, 224).cuda()
mask = torch.randn(1, 2, 224, 224).cuda()
with torch.no_grad():
    output = model(image)
    predicted_mask = torch.sigmoid(output)
plot_boundaries(image, mask, predicted_mask)
