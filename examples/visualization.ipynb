{
 "cells": [
  {
   "cell_type": "markdown",
   "metadata": {},
   "source": [
    "# RFA-U-Net Visualization\n",
    "\n",
    "This notebook demonstrates how to load the RFA-U-Net model, run inference on a sample OCT image, and visualize the segmentation results using the `plot_boundaries` function."
   ]
  },
  {
   "cell_type": "code",
   "execution_count": null,
   "metadata": {},
   "outputs": [],
   "source": [
    "import torch\n",
    "from src.retfound import AttentionUNetViT, plot_boundaries\n",
    "\n",
    "# Configuration\n",
    "config = {\n",
    "    \"image_size\": 224,\n",
    "    \"hidden_dim\": 1024,\n",
    "    \"patch_size\": 16,\n",
    "    \"num_channels\": 3,\n",
    "    \"num_classes\": 2,\n",
    "    \"retfound_weights_path\": \"weights/RETFound_oct_weights.pth\"\n",
    "}\n",
    "\n",
    "# Load the model\n",
    "device = torch.device(\"cuda\" if torch.cuda.is_available() else \"cpu\")\n",
    "model = AttentionUNetViT(config).to(device)\n",
    "model.eval()\n",
    "\n",
    "# Dummy input (replace with actual OCT image and mask)\n",
    "image = torch.randn(1, 3, 224, 224).to(device)  # Batch of 1, RGB, 224x224\n",
    "mask = torch.randn(1, 2, 224, 224).to(device)   # Batch of 1, 2 classes, 224x224\n",
    "\n",
    "# Run inference\n",
    "with torch.no_grad():\n",
    "    output = model(image)\n",
    "    predicted_mask = torch.sigmoid(output)\n",
    "\n",
    "# Visualize results\n",
    "plot_boundaries(image, mask, predicted_mask)"
   ]
  }
 ],
 "metadata": {
  "kernelspec": {
   "display_name": "Python 3",
   "language": "python",
   "name": "python3"
  },
  "language_info": {
   "codemirror_mode": {
    "name": "ipython",
    "version": 3
   },
   "file_extension": ".py",
   "mimetype": "text/x-python",
   "name": "python",
   "nbconvert_exporter": "python",
   "pygments_lexer": "ipython3",
   "version": "3.8.0"
  }
 },
 "nbformat": 4,
 "nbformat_minor": 4
}
