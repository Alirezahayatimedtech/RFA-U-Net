{
 "cells": [
  {
   "cell_type": "markdown",
   "metadata": {},
   "source": [
    "# RFA-U-Net Visualization\n",
    "\n",
    "This notebook demonstrates how to load the pre-trained RFA-U-Net model, run inference on a sample OCT image, and visualize the segmentation results using the `plot_boundaries` function."
   ]
  },
  {
   "cell_type": "code",
   "execution_count": null,
   "metadata": {},
   "outputs": [],
   "source": [
    "import torch\n",
    "import os\n",
    "from src.rfa_u_net import AttentionUNetViT, plot_boundaries\n",
    "\n",
    "# Configuration\n",
    "config = {\n",
    "    \"image_size\": 224,\n",
    "    \"hidden_dim\": 1024,\n",
    "    \"patch_size\": 16,\n",
    "    \"num_channels\": 3,\n",
    "    \"num_classes\": 2,\n",
    "    \"retfound_weights_path\": \"weights/rfa_unet_best.pth\"\n",
    "}\n",
    "\n",
    "# Load the model\n",
    "device = torch.device(\"cuda\" if torch.cuda.is_available() else \"cpu\")\n",
    "model = AttentionUNetViT(config).to(device)\n",
    "# Optionally load pre-trained weights\n",
    "# Set weights_type to 'none' to use random initialization\n",
    "weights_type = 'rfa-unet'  # Options: 'none', 'retfound', 'rfa-unet'\n",
    "weights_path = 'weights/rfa_unet_best.pth'  # Default path; can be overridden\n",
    "if weights_type in ['retfound', 'rfa-unet']:\n",
    "    if os.path.exists(weights_path):\n",
    "        checkpoint = torch.load(weights_path, map_location=device)\n",
    "        model.load_state_dict(checkpoint, strict=False)\n",
    "        print(f\"Loaded weights from {weights_path}\")\n",
    "    else:\n",
    "        raise FileNotFoundError(f\"Weights file not found: {weights_path}. Please download the appropriate weights file and place it in the weights/ directory, or specify a custom path using --weights_path when running the script.\")\n",
    "else:\n",
    "    print(\"Using random initialization for the model weights.\")\n",
    "model.eval()\n",
    "\n",
    "# Note: Pre-trained weights are optional. To train from scratch, set weights_type to 'none'.\n",
    "# To use RETFound weights, download RETFound_oct_weights.pth from https://github.com/rmaphoh/RETFound_MAE,\n",
    "# place it in the weights/ directory, and set weights_type to 'retfound'.\n",
    "# To use RFA-U-Net weights, the script will automatically download rfa_unet_best.pth to the weights/ directory\n",
    "# when running with --weights_type rfa-unet, unless a custom path is specified with --weights_path.\n",
    "# Example command with custom weights path:\n",
    "# python src/rfa-u-net.py --image_dir path/to/data/images --mask_dir path/to/data/masks --weights_type rfa-unet --weights_path /custom/path/rfa_unet_best.pth\n",
    "\n",
    "# Dummy input (replace with actual OCT image and mask)\n",
    "image = torch.randn(1, 3, 224, 224).to(device)  # Batch of 1, RGB, 224x224\n",
    "mask = torch.randn(1, 2, 224, 224).to(device)   # Batch of 1, 2 classes, 224x224\n",
    "\n",
    "# Run inference\n",
    "with torch.no_grad():\n",
    "    output = model(image)\n",
    "    predicted_mask = torch.sigmoid(output)\n",
    "\n",
    "# Visualize results\n",
    "plot_boundaries(image, mask, predicted_mask)"
   ]
  }
 ],
 "metadata": {
  "kernelspec": {
   "display_name": "Python 3",
   "language": "python",
   "name": "python3"
  },
  "language_info": {
   "codemirror_mode": {
    "name": "ipython",
    "version": 3
   },
   "file_extension": ".py",
   "mimetype": "text/x-python",
   "name": "python",
   "nbconvert_exporter": "python",
   "pygments_lexer": "ipython3",
   "version": "3.8.0"
  }
 },
 "nbformat": 4,
 "nbformat_minor": 4
}
